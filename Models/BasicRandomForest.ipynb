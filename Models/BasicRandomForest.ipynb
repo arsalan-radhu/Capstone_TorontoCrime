{
 "cells": [
  {
   "cell_type": "markdown",
   "metadata": {},
   "source": [
    "<center> \n",
    "    <h1> Toronto Crime </h1>\n",
    "<h3> Sprint 3</h3>\n",
    "<h3> Basic Random Forest</h3>\n",
    "    </center>"
   ]
  },
  {
   "cell_type": "markdown",
   "metadata": {},
   "source": [
    "##### Author: Arsalan Arif Radhu\n",
    "##### Date: 23 November 2023"
   ]
  },
  {
   "cell_type": "markdown",
   "metadata": {},
   "source": [
    "### Table of Contents:\n",
    "- [Introduction](#intro) <br />\n",
    "- [Random Forest](#rf)<br />"
   ]
  },
  {
   "cell_type": "markdown",
   "metadata": {},
   "source": [
    "### Introduction <a id=\"intro\" /> "
   ]
  },
  {
   "cell_type": "code",
   "execution_count": 11,
   "metadata": {},
   "outputs": [],
   "source": [
    "# Import necessary libraries\n",
    "import pandas as pd\n",
    "from sklearn.model_selection import train_test_split\n",
    "from sklearn.metrics import accuracy_score, classification_report\n",
    "from sklearn.ensemble import RandomForestClassifier\n",
    "from matplotlib import pyplot as plt\n"
   ]
  },
  {
   "cell_type": "code",
   "execution_count": 2,
   "metadata": {},
   "outputs": [],
   "source": [
    "# Importing the data\n",
    "df = pd.read_csv('../Data/FinalDataAdvAn.csv',index_col=0)\n",
    "df.reset_index(inplace=True)"
   ]
  },
  {
   "cell_type": "code",
   "execution_count": 3,
   "metadata": {},
   "outputs": [
    {
     "data": {
      "text/plain": [
       "(414327, 39)"
      ]
     },
     "execution_count": 3,
     "metadata": {},
     "output_type": "execute_result"
    }
   ],
   "source": [
    "df.shape"
   ]
  },
  {
   "cell_type": "markdown",
   "metadata": {},
   "source": [
    "Dropping the `UCR_CODE` and `UCR_EXT` as I just realized that these indicate which crime type has occurred. Hence, I will be dropping them."
   ]
  },
  {
   "cell_type": "code",
   "execution_count": 4,
   "metadata": {},
   "outputs": [],
   "source": [
    "df = df.drop('UCR_CODE', axis=1)\n",
    "df = df.drop('UCR_EXT', axis=1)"
   ]
  },
  {
   "cell_type": "code",
   "execution_count": 5,
   "metadata": {},
   "outputs": [
    {
     "data": {
      "text/plain": [
       "Index(['OBJECTID', 'CRIME_TYPE', 'REPORT_YEAR', 'REPORT_MONTH', 'REPORT_DAY',\n",
       "       'OCC_YEAR', 'OCC_MONTH', 'OCC_DAY', 'LONG_WGS84', 'LAT_WGS84', 'DEATH',\n",
       "       'INJURIES', 'D11', 'D12', 'D13', 'D14', 'D22', 'D23', 'D31', 'D32',\n",
       "       'D33', 'D41', 'D42', 'D43', 'D51', 'D52', 'D53', 'D55', 'NSA',\n",
       "       'Apartment', 'Commercial', 'Educational', 'House', 'NotApplicable',\n",
       "       'Other', 'Outside', 'Transit'],\n",
       "      dtype='object')"
      ]
     },
     "execution_count": 5,
     "metadata": {},
     "output_type": "execute_result"
    }
   ],
   "source": [
    "df.columns"
   ]
  },
  {
   "cell_type": "code",
   "execution_count": 6,
   "metadata": {},
   "outputs": [
    {
     "data": {
      "text/html": [
       "<div>\n",
       "<style scoped>\n",
       "    .dataframe tbody tr th:only-of-type {\n",
       "        vertical-align: middle;\n",
       "    }\n",
       "\n",
       "    .dataframe tbody tr th {\n",
       "        vertical-align: top;\n",
       "    }\n",
       "\n",
       "    .dataframe thead th {\n",
       "        text-align: right;\n",
       "    }\n",
       "</style>\n",
       "<table border=\"1\" class=\"dataframe\">\n",
       "  <thead>\n",
       "    <tr style=\"text-align: right;\">\n",
       "      <th></th>\n",
       "      <th>OBJECTID</th>\n",
       "      <th>CRIME_TYPE</th>\n",
       "      <th>REPORT_YEAR</th>\n",
       "      <th>REPORT_MONTH</th>\n",
       "      <th>REPORT_DAY</th>\n",
       "      <th>OCC_YEAR</th>\n",
       "      <th>OCC_MONTH</th>\n",
       "      <th>OCC_DAY</th>\n",
       "      <th>LONG_WGS84</th>\n",
       "      <th>LAT_WGS84</th>\n",
       "      <th>...</th>\n",
       "      <th>D55</th>\n",
       "      <th>NSA</th>\n",
       "      <th>Apartment</th>\n",
       "      <th>Commercial</th>\n",
       "      <th>Educational</th>\n",
       "      <th>House</th>\n",
       "      <th>NotApplicable</th>\n",
       "      <th>Other</th>\n",
       "      <th>Outside</th>\n",
       "      <th>Transit</th>\n",
       "    </tr>\n",
       "  </thead>\n",
       "  <tbody>\n",
       "    <tr>\n",
       "      <th>120718</th>\n",
       "      <td>132226</td>\n",
       "      <td>0</td>\n",
       "      <td>2020</td>\n",
       "      <td>12</td>\n",
       "      <td>26</td>\n",
       "      <td>2020</td>\n",
       "      <td>12</td>\n",
       "      <td>26</td>\n",
       "      <td>-79.390429</td>\n",
       "      <td>43.679140</td>\n",
       "      <td>...</td>\n",
       "      <td>0</td>\n",
       "      <td>0</td>\n",
       "      <td>0</td>\n",
       "      <td>1</td>\n",
       "      <td>0</td>\n",
       "      <td>0</td>\n",
       "      <td>0</td>\n",
       "      <td>0</td>\n",
       "      <td>0</td>\n",
       "      <td>0</td>\n",
       "    </tr>\n",
       "    <tr>\n",
       "      <th>294872</th>\n",
       "      <td>64608</td>\n",
       "      <td>5</td>\n",
       "      <td>2021</td>\n",
       "      <td>1</td>\n",
       "      <td>25</td>\n",
       "      <td>2021</td>\n",
       "      <td>1</td>\n",
       "      <td>22</td>\n",
       "      <td>-79.316029</td>\n",
       "      <td>43.793869</td>\n",
       "      <td>...</td>\n",
       "      <td>0</td>\n",
       "      <td>0</td>\n",
       "      <td>0</td>\n",
       "      <td>0</td>\n",
       "      <td>0</td>\n",
       "      <td>0</td>\n",
       "      <td>0</td>\n",
       "      <td>0</td>\n",
       "      <td>1</td>\n",
       "      <td>0</td>\n",
       "    </tr>\n",
       "    <tr>\n",
       "      <th>397855</th>\n",
       "      <td>45995</td>\n",
       "      <td>1</td>\n",
       "      <td>2020</td>\n",
       "      <td>4</td>\n",
       "      <td>12</td>\n",
       "      <td>2020</td>\n",
       "      <td>4</td>\n",
       "      <td>12</td>\n",
       "      <td>-79.442600</td>\n",
       "      <td>43.658794</td>\n",
       "      <td>...</td>\n",
       "      <td>0</td>\n",
       "      <td>0</td>\n",
       "      <td>0</td>\n",
       "      <td>1</td>\n",
       "      <td>0</td>\n",
       "      <td>0</td>\n",
       "      <td>0</td>\n",
       "      <td>0</td>\n",
       "      <td>0</td>\n",
       "      <td>0</td>\n",
       "    </tr>\n",
       "    <tr>\n",
       "      <th>204080</th>\n",
       "      <td>3880</td>\n",
       "      <td>5</td>\n",
       "      <td>2015</td>\n",
       "      <td>5</td>\n",
       "      <td>27</td>\n",
       "      <td>2015</td>\n",
       "      <td>5</td>\n",
       "      <td>25</td>\n",
       "      <td>-79.369685</td>\n",
       "      <td>43.652783</td>\n",
       "      <td>...</td>\n",
       "      <td>0</td>\n",
       "      <td>0</td>\n",
       "      <td>0</td>\n",
       "      <td>0</td>\n",
       "      <td>0</td>\n",
       "      <td>0</td>\n",
       "      <td>0</td>\n",
       "      <td>0</td>\n",
       "      <td>1</td>\n",
       "      <td>0</td>\n",
       "    </tr>\n",
       "    <tr>\n",
       "      <th>402004</th>\n",
       "      <td>50148</td>\n",
       "      <td>1</td>\n",
       "      <td>2020</td>\n",
       "      <td>12</td>\n",
       "      <td>4</td>\n",
       "      <td>2020</td>\n",
       "      <td>12</td>\n",
       "      <td>3</td>\n",
       "      <td>-79.509030</td>\n",
       "      <td>43.625386</td>\n",
       "      <td>...</td>\n",
       "      <td>0</td>\n",
       "      <td>0</td>\n",
       "      <td>0</td>\n",
       "      <td>1</td>\n",
       "      <td>0</td>\n",
       "      <td>0</td>\n",
       "      <td>0</td>\n",
       "      <td>0</td>\n",
       "      <td>0</td>\n",
       "      <td>0</td>\n",
       "    </tr>\n",
       "    <tr>\n",
       "      <th>88900</th>\n",
       "      <td>97382</td>\n",
       "      <td>0</td>\n",
       "      <td>2019</td>\n",
       "      <td>3</td>\n",
       "      <td>27</td>\n",
       "      <td>2019</td>\n",
       "      <td>3</td>\n",
       "      <td>27</td>\n",
       "      <td>-79.374451</td>\n",
       "      <td>43.660196</td>\n",
       "      <td>...</td>\n",
       "      <td>0</td>\n",
       "      <td>0</td>\n",
       "      <td>0</td>\n",
       "      <td>0</td>\n",
       "      <td>0</td>\n",
       "      <td>0</td>\n",
       "      <td>0</td>\n",
       "      <td>1</td>\n",
       "      <td>0</td>\n",
       "      <td>0</td>\n",
       "    </tr>\n",
       "    <tr>\n",
       "      <th>296754</th>\n",
       "      <td>66491</td>\n",
       "      <td>5</td>\n",
       "      <td>2021</td>\n",
       "      <td>5</td>\n",
       "      <td>3</td>\n",
       "      <td>2021</td>\n",
       "      <td>5</td>\n",
       "      <td>3</td>\n",
       "      <td>-79.307332</td>\n",
       "      <td>43.686931</td>\n",
       "      <td>...</td>\n",
       "      <td>1</td>\n",
       "      <td>0</td>\n",
       "      <td>0</td>\n",
       "      <td>0</td>\n",
       "      <td>0</td>\n",
       "      <td>0</td>\n",
       "      <td>0</td>\n",
       "      <td>0</td>\n",
       "      <td>1</td>\n",
       "      <td>0</td>\n",
       "    </tr>\n",
       "    <tr>\n",
       "      <th>290595</th>\n",
       "      <td>60329</td>\n",
       "      <td>5</td>\n",
       "      <td>2020</td>\n",
       "      <td>8</td>\n",
       "      <td>17</td>\n",
       "      <td>2020</td>\n",
       "      <td>8</td>\n",
       "      <td>17</td>\n",
       "      <td>-79.301084</td>\n",
       "      <td>43.803736</td>\n",
       "      <td>...</td>\n",
       "      <td>0</td>\n",
       "      <td>0</td>\n",
       "      <td>0</td>\n",
       "      <td>0</td>\n",
       "      <td>0</td>\n",
       "      <td>0</td>\n",
       "      <td>0</td>\n",
       "      <td>0</td>\n",
       "      <td>1</td>\n",
       "      <td>0</td>\n",
       "    </tr>\n",
       "    <tr>\n",
       "      <th>392717</th>\n",
       "      <td>40846</td>\n",
       "      <td>1</td>\n",
       "      <td>2019</td>\n",
       "      <td>9</td>\n",
       "      <td>3</td>\n",
       "      <td>2019</td>\n",
       "      <td>9</td>\n",
       "      <td>3</td>\n",
       "      <td>-79.467709</td>\n",
       "      <td>43.736125</td>\n",
       "      <td>...</td>\n",
       "      <td>0</td>\n",
       "      <td>0</td>\n",
       "      <td>0</td>\n",
       "      <td>0</td>\n",
       "      <td>0</td>\n",
       "      <td>1</td>\n",
       "      <td>0</td>\n",
       "      <td>0</td>\n",
       "      <td>0</td>\n",
       "      <td>0</td>\n",
       "    </tr>\n",
       "    <tr>\n",
       "      <th>99004</th>\n",
       "      <td>108450</td>\n",
       "      <td>0</td>\n",
       "      <td>2019</td>\n",
       "      <td>9</td>\n",
       "      <td>21</td>\n",
       "      <td>2019</td>\n",
       "      <td>9</td>\n",
       "      <td>20</td>\n",
       "      <td>-79.585314</td>\n",
       "      <td>43.743897</td>\n",
       "      <td>...</td>\n",
       "      <td>0</td>\n",
       "      <td>0</td>\n",
       "      <td>0</td>\n",
       "      <td>1</td>\n",
       "      <td>0</td>\n",
       "      <td>0</td>\n",
       "      <td>0</td>\n",
       "      <td>0</td>\n",
       "      <td>0</td>\n",
       "      <td>0</td>\n",
       "    </tr>\n",
       "  </tbody>\n",
       "</table>\n",
       "<p>10 rows × 37 columns</p>\n",
       "</div>"
      ],
      "text/plain": [
       "        OBJECTID  CRIME_TYPE  REPORT_YEAR  REPORT_MONTH  REPORT_DAY  OCC_YEAR  \\\n",
       "120718    132226           0         2020            12          26      2020   \n",
       "294872     64608           5         2021             1          25      2021   \n",
       "397855     45995           1         2020             4          12      2020   \n",
       "204080      3880           5         2015             5          27      2015   \n",
       "402004     50148           1         2020            12           4      2020   \n",
       "88900      97382           0         2019             3          27      2019   \n",
       "296754     66491           5         2021             5           3      2021   \n",
       "290595     60329           5         2020             8          17      2020   \n",
       "392717     40846           1         2019             9           3      2019   \n",
       "99004     108450           0         2019             9          21      2019   \n",
       "\n",
       "        OCC_MONTH  OCC_DAY  LONG_WGS84  LAT_WGS84  ...  D55  NSA  Apartment  \\\n",
       "120718         12       26  -79.390429  43.679140  ...    0    0          0   \n",
       "294872          1       22  -79.316029  43.793869  ...    0    0          0   \n",
       "397855          4       12  -79.442600  43.658794  ...    0    0          0   \n",
       "204080          5       25  -79.369685  43.652783  ...    0    0          0   \n",
       "402004         12        3  -79.509030  43.625386  ...    0    0          0   \n",
       "88900           3       27  -79.374451  43.660196  ...    0    0          0   \n",
       "296754          5        3  -79.307332  43.686931  ...    1    0          0   \n",
       "290595          8       17  -79.301084  43.803736  ...    0    0          0   \n",
       "392717          9        3  -79.467709  43.736125  ...    0    0          0   \n",
       "99004           9       20  -79.585314  43.743897  ...    0    0          0   \n",
       "\n",
       "        Commercial  Educational  House  NotApplicable  Other  Outside  Transit  \n",
       "120718           1            0      0              0      0        0        0  \n",
       "294872           0            0      0              0      0        1        0  \n",
       "397855           1            0      0              0      0        0        0  \n",
       "204080           0            0      0              0      0        1        0  \n",
       "402004           1            0      0              0      0        0        0  \n",
       "88900            0            0      0              0      1        0        0  \n",
       "296754           0            0      0              0      0        1        0  \n",
       "290595           0            0      0              0      0        1        0  \n",
       "392717           0            0      1              0      0        0        0  \n",
       "99004            1            0      0              0      0        0        0  \n",
       "\n",
       "[10 rows x 37 columns]"
      ]
     },
     "execution_count": 6,
     "metadata": {},
     "output_type": "execute_result"
    }
   ],
   "source": [
    "df.sample(10)"
   ]
  },
  {
   "cell_type": "markdown",
   "metadata": {},
   "source": [
    "## Random Forest <a id=\"rf\" /> "
   ]
  },
  {
   "cell_type": "markdown",
   "metadata": {},
   "source": [
    "I chose a Random Forest model as it offers a comprehensive and adaptable solution tailored to the specific complexities of my project. From its capacity to handle diverse tasks to its resilience in the face of imperfect data, the decision reflects a strategic alignment with a model that not only meets the immediate needs of the project but also promises versatility and reliability in extracting meaningful insights from complex datasets."
   ]
  },
  {
   "cell_type": "code",
   "execution_count": 9,
   "metadata": {},
   "outputs": [
    {
     "name": "stdout",
     "output_type": "stream",
     "text": [
      "Accuracy: 0.9645290790754552\n",
      "Classification Report:\n",
      "               precision    recall  f1-score   support\n",
      "\n",
      "           0       0.99      1.00      0.99     47734\n",
      "           1       0.97      0.97      0.97     18739\n",
      "           2       0.97      0.98      0.97       338\n",
      "           3       0.90      0.70      0.79      7833\n",
      "           4       1.00      0.99      0.99      1655\n",
      "           5       0.94      0.97      0.96     48000\n",
      "\n",
      "    accuracy                           0.96    124299\n",
      "   macro avg       0.96      0.94      0.95    124299\n",
      "weighted avg       0.96      0.96      0.96    124299\n",
      "\n"
     ]
    }
   ],
   "source": [
    "# Extract features and labels\n",
    "X_rf = df.drop('CRIME_TYPE', axis=1)  # Replace 'label_column' with the actual label column name\n",
    "y_rf = df['CRIME_TYPE']\n",
    "\n",
    "# Split the data into training and testing sets\n",
    "X_train, X_test, y_train, y_test = train_test_split(X_rf, y_rf, test_size=0.3, random_state=62)\n",
    "\n",
    "# Create a Random Forest classifier\n",
    "random_forest = RandomForestClassifier(n_estimators=100, random_state=42)\n",
    "\n",
    "# Train the classifier on the training data\n",
    "random_forest.fit(X_train, y_train)\n",
    "\n",
    "# Make predictions on the test set\n",
    "y_pred = random_forest.predict(X_test)\n",
    "\n",
    "# Evaluate the model\n",
    "accuracy = accuracy_score(y_test, y_pred)\n",
    "classification_rep = classification_report(y_test, y_pred)\n",
    "\n",
    "print(\"Accuracy:\", accuracy)\n",
    "print(\"Classification Report:\\n\", classification_rep)\n"
   ]
  },
  {
   "cell_type": "code",
   "execution_count": 10,
   "metadata": {},
   "outputs": [
    {
     "name": "stdout",
     "output_type": "stream",
     "text": [
      "{'OBJECTID': 0.517052406527604, 'REPORT_YEAR': 0.0746927346836039, 'REPORT_MONTH': 0.02596185735476011, 'REPORT_DAY': 0.03106721871674793, 'OCC_YEAR': 0.06385921410881006, 'OCC_MONTH': 0.024515827261220053, 'OCC_DAY': 0.03091745757141171, 'LONG_WGS84': 0.047225159513038066, 'LAT_WGS84': 0.04562762751604902, 'DEATH': 0.0008913395152478706, 'INJURIES': 0.003951460651090135, 'D11': 0.0009284177449655753, 'D12': 0.0010667980356654924, 'D13': 0.0009319716449758916, 'D14': 0.0013370229814990387, 'D22': 0.0011349795682945546, 'D23': 0.0014723837592778542, 'D31': 0.0012783727848657517, 'D32': 0.0014181718694412243, 'D33': 0.0010834126666909747, 'D41': 0.0012653409761071775, 'D42': 0.0009979718270407014, 'D43': 0.0011763505237277843, 'D51': 0.0014742163032736477, 'D52': 0.0016003190679690384, 'D53': 0.0013524337446330103, 'D55': 0.0012988780384089959, 'NSA': 0.0007632023881811789, 'Apartment': 0.019524196066845814, 'Commercial': 0.014701694726903749, 'Educational': 0.0021460516828678312, 'House': 0.012029904082025217, 'NotApplicable': 0.0169459396400215, 'Other': 0.0034545525189229025, 'Outside': 0.04065742526954105, 'Transit': 0.004197688668271059}\n"
     ]
    }
   ],
   "source": [
    "# Get feature importances\n",
    "feature_importances = random_forest.feature_importances_\n",
    "\n",
    "# Pair feature names with their importance s}cores\n",
    "feature_importance_dict = dict(zip(X_rf.columns, feature_importances))\n",
    "\n",
    "# Print or plot feature importances\n",
    "print(feature_importance_dict)"
   ]
  },
  {
   "cell_type": "markdown",
   "metadata": {},
   "source": [
    "Creating a visual for easy readability."
   ]
  },
  {
   "cell_type": "code",
   "execution_count": 12,
   "metadata": {},
   "outputs": [
    {
     "data": {
      "image/png": "[encoded data removed]",
      "text/plain": [
       "<Figure size 1200x800 with 1 Axes>"
      ]
     },
     "metadata": {},
     "output_type": "display_data"
    }
   ],
   "source": [
    "importance_df = pd.DataFrame(list(feature_importance_dict.items()), columns=['Feature', 'Importance'])\n",
    "\n",
    "# Sort the DataFrame by Importance\n",
    "importance_df = importance_df.sort_values(by='Importance', ascending=False)\n",
    "\n",
    "# Plot the feature importances\n",
    "plt.figure(figsize=(12, 8))\n",
    "plt.barh(importance_df['Feature'], importance_df['Importance'])\n",
    "plt.xlabel('Importance')\n",
    "plt.title('Feature Importances')\n",
    "plt.show()"
   ]
  },
  {
   "cell_type": "markdown",
   "metadata": {},
   "source": [
    "Everything looks alright but I am not I don't think `OBJECTID` is a feature I wished to have in my data set.  "
   ]
  },
  {
   "cell_type": "markdown",
   "metadata": {},
   "source": [
    "After looking into it more, I found out that due to the way I had concatenated my data set, it created a very predictable patern with the `OBJECTID` which I was unaware of. I will be dropping the column and then rerun the models. Another thing I realized that I had not randomize my data set, which I will be doing going forward."
   ]
  }
 ],
 "metadata": {
  "kernelspec": {
   "display_name": "Python 3",
   "language": "python",
   "name": "python3"
  },
  "language_info": {
   "codemirror_mode": {
    "name": "ipython",
    "version": 3
   },
   "file_extension": ".py",
   "mimetype": "text/x-python",
   "name": "python",
   "nbconvert_exporter": "python",
   "pygments_lexer": "ipython3",
   "version": "3.11.4"
  }
 },
 "nbformat": 4,
 "nbformat_minor": 2
}
