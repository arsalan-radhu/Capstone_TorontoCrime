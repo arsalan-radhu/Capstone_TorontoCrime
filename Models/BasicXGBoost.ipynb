{
 "cells": [
  {
   "cell_type": "markdown",
   "metadata": {},
   "source": [
    "<center> \n",
    "    <h1> Toronto Crime </h1>\n",
    "<h3> Sprint 3</h3>\n",
    "<h3> Basic XG Boost</h3>\n",
    "    </center>"
   ]
  },
  {
   "cell_type": "markdown",
   "metadata": {},
   "source": [
    "##### Author: Arsalan Arif Radhu\n",
    "##### Date: 23 November 2023"
   ]
  },
  {
   "cell_type": "markdown",
   "metadata": {},
   "source": [
    "### Table of Contents:\n",
    "- [Introduction](#intro) <br />\n",
    "- [XGBoost](#xgb)<br />"
   ]
  },
  {
   "cell_type": "markdown",
   "metadata": {},
   "source": [
    "### Introduction <a id=\"intro\" /> "
   ]
  },
  {
   "cell_type": "code",
   "execution_count": 2,
   "metadata": {},
   "outputs": [],
   "source": [
    "# Import necessary libraries\n",
    "import pandas as pd\n",
    "from sklearn.model_selection import train_test_split\n",
    "from xgboost import XGBClassifier\n",
    "from sklearn.metrics import accuracy_score, classification_report\n",
    "from matplotlib import pyplot as plt"
   ]
  },
  {
   "cell_type": "code",
   "execution_count": 3,
   "metadata": {},
   "outputs": [],
   "source": [
    "# Importing the data\n",
    "df = pd.read_csv('../Data/FinalDataAdvAn.csv',index_col=0)\n",
    "df.reset_index(inplace=True)"
   ]
  },
  {
   "cell_type": "code",
   "execution_count": null,
   "metadata": {},
   "outputs": [
    {
     "data": {
      "text/plain": [
       "(414327, 39)"
      ]
     },
     "metadata": {},
     "output_type": "display_data"
    }
   ],
   "source": [
    "df.shape"
   ]
  },
  {
   "cell_type": "markdown",
   "metadata": {},
   "source": [
    "Dropping the `UCR_CODE` and `UCR_EXT` as I just realized that these indicate which crime type has occurred. Hence, I will be dropping them."
   ]
  },
  {
   "cell_type": "code",
   "execution_count": 4,
   "metadata": {},
   "outputs": [],
   "source": [
    "df = df.drop('UCR_CODE', axis=1)\n",
    "df = df.drop('UCR_EXT', axis=1)"
   ]
  },
  {
   "cell_type": "code",
   "execution_count": null,
   "metadata": {},
   "outputs": [
    {
     "data": {
      "text/plain": [
       "Index(['OBJECTID', 'CRIME_TYPE', 'REPORT_YEAR', 'REPORT_MONTH', 'REPORT_DAY',\n",
       "       'OCC_YEAR', 'OCC_MONTH', 'OCC_DAY', 'LONG_WGS84', 'LAT_WGS84', 'DEATH',\n",
       "       'INJURIES', 'D11', 'D12', 'D13', 'D14', 'D22', 'D23', 'D31', 'D32',\n",
       "       'D33', 'D41', 'D42', 'D43', 'D51', 'D52', 'D53', 'D55', 'NSA',\n",
       "       'Apartment', 'Commercial', 'Educational', 'House', 'NotApplicable',\n",
       "       'Other', 'Outside', 'Transit'],\n",
       "      dtype='object')"
      ]
     },
     "metadata": {},
     "output_type": "display_data"
    }
   ],
   "source": [
    "df.columns"
   ]
  },
  {
   "cell_type": "code",
   "execution_count": null,
   "metadata": {},
   "outputs": [
    {
     "data": {
      "text/html": [
       "<div>\n",
       "<style scoped>\n",
       "    .dataframe tbody tr th:only-of-type {\n",
       "        vertical-align: middle;\n",
       "    }\n",
       "\n",
       "    .dataframe tbody tr th {\n",
       "        vertical-align: top;\n",
       "    }\n",
       "\n",
       "    .dataframe thead th {\n",
       "        text-align: right;\n",
       "    }\n",
       "</style>\n",
       "<table border=\"1\" class=\"dataframe\">\n",
       "  <thead>\n",
       "    <tr style=\"text-align: right;\">\n",
       "      <th></th>\n",
       "      <th>OBJECTID</th>\n",
       "      <th>CRIME_TYPE</th>\n",
       "      <th>REPORT_YEAR</th>\n",
       "      <th>REPORT_MONTH</th>\n",
       "      <th>REPORT_DAY</th>\n",
       "      <th>OCC_YEAR</th>\n",
       "      <th>OCC_MONTH</th>\n",
       "      <th>OCC_DAY</th>\n",
       "      <th>LONG_WGS84</th>\n",
       "      <th>LAT_WGS84</th>\n",
       "      <th>...</th>\n",
       "      <th>D55</th>\n",
       "      <th>NSA</th>\n",
       "      <th>Apartment</th>\n",
       "      <th>Commercial</th>\n",
       "      <th>Educational</th>\n",
       "      <th>House</th>\n",
       "      <th>NotApplicable</th>\n",
       "      <th>Other</th>\n",
       "      <th>Outside</th>\n",
       "      <th>Transit</th>\n",
       "    </tr>\n",
       "  </thead>\n",
       "  <tbody>\n",
       "    <tr>\n",
       "      <th>117299</th>\n",
       "      <td>128510</td>\n",
       "      <td>0</td>\n",
       "      <td>2020</td>\n",
       "      <td>10</td>\n",
       "      <td>6</td>\n",
       "      <td>2020</td>\n",
       "      <td>10</td>\n",
       "      <td>6</td>\n",
       "      <td>-79.199469</td>\n",
       "      <td>43.765441</td>\n",
       "      <td>...</td>\n",
       "      <td>0</td>\n",
       "      <td>0</td>\n",
       "      <td>1</td>\n",
       "      <td>0</td>\n",
       "      <td>0</td>\n",
       "      <td>0</td>\n",
       "      <td>0</td>\n",
       "      <td>0</td>\n",
       "      <td>0</td>\n",
       "      <td>0</td>\n",
       "    </tr>\n",
       "    <tr>\n",
       "      <th>278015</th>\n",
       "      <td>47732</td>\n",
       "      <td>5</td>\n",
       "      <td>2019</td>\n",
       "      <td>6</td>\n",
       "      <td>11</td>\n",
       "      <td>2019</td>\n",
       "      <td>6</td>\n",
       "      <td>9</td>\n",
       "      <td>-79.344687</td>\n",
       "      <td>43.687372</td>\n",
       "      <td>...</td>\n",
       "      <td>1</td>\n",
       "      <td>0</td>\n",
       "      <td>0</td>\n",
       "      <td>0</td>\n",
       "      <td>0</td>\n",
       "      <td>0</td>\n",
       "      <td>0</td>\n",
       "      <td>0</td>\n",
       "      <td>1</td>\n",
       "      <td>0</td>\n",
       "    </tr>\n",
       "    <tr>\n",
       "      <th>33045</th>\n",
       "      <td>36295</td>\n",
       "      <td>0</td>\n",
       "      <td>2016</td>\n",
       "      <td>1</td>\n",
       "      <td>30</td>\n",
       "      <td>2016</td>\n",
       "      <td>1</td>\n",
       "      <td>30</td>\n",
       "      <td>-79.253430</td>\n",
       "      <td>43.737863</td>\n",
       "      <td>...</td>\n",
       "      <td>0</td>\n",
       "      <td>0</td>\n",
       "      <td>0</td>\n",
       "      <td>0</td>\n",
       "      <td>1</td>\n",
       "      <td>0</td>\n",
       "      <td>0</td>\n",
       "      <td>0</td>\n",
       "      <td>0</td>\n",
       "      <td>0</td>\n",
       "    </tr>\n",
       "    <tr>\n",
       "      <th>150636</th>\n",
       "      <td>164710</td>\n",
       "      <td>0</td>\n",
       "      <td>2022</td>\n",
       "      <td>8</td>\n",
       "      <td>14</td>\n",
       "      <td>2022</td>\n",
       "      <td>8</td>\n",
       "      <td>14</td>\n",
       "      <td>-79.446110</td>\n",
       "      <td>43.640305</td>\n",
       "      <td>...</td>\n",
       "      <td>0</td>\n",
       "      <td>0</td>\n",
       "      <td>0</td>\n",
       "      <td>0</td>\n",
       "      <td>0</td>\n",
       "      <td>0</td>\n",
       "      <td>0</td>\n",
       "      <td>0</td>\n",
       "      <td>1</td>\n",
       "      <td>0</td>\n",
       "    </tr>\n",
       "    <tr>\n",
       "      <th>128906</th>\n",
       "      <td>141092</td>\n",
       "      <td>0</td>\n",
       "      <td>2021</td>\n",
       "      <td>6</td>\n",
       "      <td>24</td>\n",
       "      <td>2021</td>\n",
       "      <td>6</td>\n",
       "      <td>24</td>\n",
       "      <td>-79.423550</td>\n",
       "      <td>43.639717</td>\n",
       "      <td>...</td>\n",
       "      <td>0</td>\n",
       "      <td>0</td>\n",
       "      <td>0</td>\n",
       "      <td>1</td>\n",
       "      <td>0</td>\n",
       "      <td>0</td>\n",
       "      <td>0</td>\n",
       "      <td>0</td>\n",
       "      <td>0</td>\n",
       "      <td>0</td>\n",
       "    </tr>\n",
       "    <tr>\n",
       "      <th>332834</th>\n",
       "      <td>24574</td>\n",
       "      <td>3</td>\n",
       "      <td>2020</td>\n",
       "      <td>8</td>\n",
       "      <td>16</td>\n",
       "      <td>2020</td>\n",
       "      <td>8</td>\n",
       "      <td>16</td>\n",
       "      <td>-79.358869</td>\n",
       "      <td>43.676196</td>\n",
       "      <td>...</td>\n",
       "      <td>1</td>\n",
       "      <td>0</td>\n",
       "      <td>0</td>\n",
       "      <td>1</td>\n",
       "      <td>0</td>\n",
       "      <td>0</td>\n",
       "      <td>0</td>\n",
       "      <td>0</td>\n",
       "      <td>0</td>\n",
       "      <td>0</td>\n",
       "    </tr>\n",
       "    <tr>\n",
       "      <th>56737</th>\n",
       "      <td>62162</td>\n",
       "      <td>0</td>\n",
       "      <td>2017</td>\n",
       "      <td>6</td>\n",
       "      <td>12</td>\n",
       "      <td>2017</td>\n",
       "      <td>6</td>\n",
       "      <td>12</td>\n",
       "      <td>-79.438787</td>\n",
       "      <td>43.756785</td>\n",
       "      <td>...</td>\n",
       "      <td>0</td>\n",
       "      <td>0</td>\n",
       "      <td>1</td>\n",
       "      <td>0</td>\n",
       "      <td>0</td>\n",
       "      <td>0</td>\n",
       "      <td>0</td>\n",
       "      <td>0</td>\n",
       "      <td>0</td>\n",
       "      <td>0</td>\n",
       "    </tr>\n",
       "    <tr>\n",
       "      <th>9239</th>\n",
       "      <td>10174</td>\n",
       "      <td>0</td>\n",
       "      <td>2014</td>\n",
       "      <td>8</td>\n",
       "      <td>15</td>\n",
       "      <td>2014</td>\n",
       "      <td>7</td>\n",
       "      <td>31</td>\n",
       "      <td>-79.281937</td>\n",
       "      <td>43.798033</td>\n",
       "      <td>...</td>\n",
       "      <td>0</td>\n",
       "      <td>0</td>\n",
       "      <td>0</td>\n",
       "      <td>0</td>\n",
       "      <td>0</td>\n",
       "      <td>1</td>\n",
       "      <td>0</td>\n",
       "      <td>0</td>\n",
       "      <td>0</td>\n",
       "      <td>0</td>\n",
       "    </tr>\n",
       "    <tr>\n",
       "      <th>378586</th>\n",
       "      <td>26695</td>\n",
       "      <td>1</td>\n",
       "      <td>2017</td>\n",
       "      <td>11</td>\n",
       "      <td>20</td>\n",
       "      <td>2017</td>\n",
       "      <td>11</td>\n",
       "      <td>20</td>\n",
       "      <td>-79.271107</td>\n",
       "      <td>43.767919</td>\n",
       "      <td>...</td>\n",
       "      <td>0</td>\n",
       "      <td>0</td>\n",
       "      <td>0</td>\n",
       "      <td>1</td>\n",
       "      <td>0</td>\n",
       "      <td>0</td>\n",
       "      <td>0</td>\n",
       "      <td>0</td>\n",
       "      <td>0</td>\n",
       "      <td>0</td>\n",
       "    </tr>\n",
       "    <tr>\n",
       "      <th>288881</th>\n",
       "      <td>58614</td>\n",
       "      <td>5</td>\n",
       "      <td>2020</td>\n",
       "      <td>6</td>\n",
       "      <td>8</td>\n",
       "      <td>2020</td>\n",
       "      <td>6</td>\n",
       "      <td>7</td>\n",
       "      <td>-79.411614</td>\n",
       "      <td>43.685692</td>\n",
       "      <td>...</td>\n",
       "      <td>0</td>\n",
       "      <td>0</td>\n",
       "      <td>0</td>\n",
       "      <td>0</td>\n",
       "      <td>0</td>\n",
       "      <td>0</td>\n",
       "      <td>0</td>\n",
       "      <td>0</td>\n",
       "      <td>1</td>\n",
       "      <td>0</td>\n",
       "    </tr>\n",
       "  </tbody>\n",
       "</table>\n",
       "<p>10 rows × 37 columns</p>\n",
       "</div>"
      ],
      "text/plain": [
       "        OBJECTID  CRIME_TYPE  REPORT_YEAR  REPORT_MONTH  REPORT_DAY  OCC_YEAR  \\\n",
       "117299    128510           0         2020            10           6      2020   \n",
       "278015     47732           5         2019             6          11      2019   \n",
       "33045      36295           0         2016             1          30      2016   \n",
       "150636    164710           0         2022             8          14      2022   \n",
       "128906    141092           0         2021             6          24      2021   \n",
       "332834     24574           3         2020             8          16      2020   \n",
       "56737      62162           0         2017             6          12      2017   \n",
       "9239       10174           0         2014             8          15      2014   \n",
       "378586     26695           1         2017            11          20      2017   \n",
       "288881     58614           5         2020             6           8      2020   \n",
       "\n",
       "        OCC_MONTH  OCC_DAY  LONG_WGS84  LAT_WGS84  ...  D55  NSA  Apartment  \\\n",
       "117299         10        6  -79.199469  43.765441  ...    0    0          1   \n",
       "278015          6        9  -79.344687  43.687372  ...    1    0          0   \n",
       "33045           1       30  -79.253430  43.737863  ...    0    0          0   \n",
       "150636          8       14  -79.446110  43.640305  ...    0    0          0   \n",
       "128906          6       24  -79.423550  43.639717  ...    0    0          0   \n",
       "332834          8       16  -79.358869  43.676196  ...    1    0          0   \n",
       "56737           6       12  -79.438787  43.756785  ...    0    0          1   \n",
       "9239            7       31  -79.281937  43.798033  ...    0    0          0   \n",
       "378586         11       20  -79.271107  43.767919  ...    0    0          0   \n",
       "288881          6        7  -79.411614  43.685692  ...    0    0          0   \n",
       "\n",
       "        Commercial  Educational  House  NotApplicable  Other  Outside  Transit  \n",
       "117299           0            0      0              0      0        0        0  \n",
       "278015           0            0      0              0      0        1        0  \n",
       "33045            0            1      0              0      0        0        0  \n",
       "150636           0            0      0              0      0        1        0  \n",
       "128906           1            0      0              0      0        0        0  \n",
       "332834           1            0      0              0      0        0        0  \n",
       "56737            0            0      0              0      0        0        0  \n",
       "9239             0            0      1              0      0        0        0  \n",
       "378586           1            0      0              0      0        0        0  \n",
       "288881           0            0      0              0      0        1        0  \n",
       "\n",
       "[10 rows x 37 columns]"
      ]
     },
     "metadata": {},
     "output_type": "display_data"
    }
   ],
   "source": [
    "df.sample(10)"
   ]
  },
  {
   "cell_type": "markdown",
   "metadata": {},
   "source": [
    "## XGBoost <a id=\"xgb\" /> "
   ]
  },
  {
   "cell_type": "markdown",
   "metadata": {},
   "source": [
    "I am opting for the XGBoost model due to its proven track record of delivering robust and accurate predictions across diverse datasets. Its capacity to handle intricate relationships within the data, coupled with effective regularization techniques, makes it particularly adept at preventing overfitting—a crucial consideration for maintaining model generalization. Furthermore, XGBoost's efficiency in handling large datasets ensures scalability, providing a practical solution for the complexities inherent in my specific task. The algorithm's feature importance analysis also enhances interpretability, allowing for a deeper understanding of the factors influencing predictions."
   ]
  },
  {
   "cell_type": "code",
   "execution_count": null,
   "metadata": {},
   "outputs": [
    {
     "name": "stdout",
     "output_type": "stream",
     "text": [
      "Accuracy: 0.9916411234201401\n",
      "Classification Report:\n",
      "              precision    recall  f1-score   support\n",
      "\n",
      "           0       1.00      1.00      1.00     47661\n",
      "           1       1.00      1.00      1.00     18931\n",
      "           2       0.98      0.96      0.97       397\n",
      "           3       0.95      0.93      0.94      7818\n",
      "           4       0.99      1.00      0.99      1735\n",
      "           5       0.99      0.99      0.99     47757\n",
      "\n",
      "    accuracy                           0.99    124299\n",
      "   macro avg       0.99      0.98      0.98    124299\n",
      "weighted avg       0.99      0.99      0.99    124299\n",
      "\n"
     ]
    }
   ],
   "source": [
    "# Extract features and labels\n",
    "X_boost = df.drop('CRIME_TYPE', axis=1)  # Replace 'label_column' with the actual label column name\n",
    "y_boost = df['CRIME_TYPE']\n",
    "\n",
    "# Split the data into training and testing sets\n",
    "X_train, X_test, y_train, y_test = train_test_split(X_boost, y_boost, test_size=0.3, random_state=50)\n",
    "\n",
    "# Initialize the XGBoost classifier\n",
    "xgb_classifier = XGBClassifier()\n",
    "\n",
    "# Train the model\n",
    "xgb_classifier.fit(X_train, y_train)\n",
    "\n",
    "# Make predictions on the test set\n",
    "y_pred = xgb_classifier.predict(X_test)\n",
    "\n",
    "# Evaluate the model\n",
    "accuracy = accuracy_score(y_test, y_pred)\n",
    "classification_rep = classification_report(y_test, y_pred)\n",
    "\n",
    "# Display the results\n",
    "print(f\"Accuracy: {accuracy}\")\n",
    "print(\"Classification Report:\")\n",
    "print(classification_rep)"
   ]
  },
  {
   "cell_type": "markdown",
   "metadata": {},
   "source": [
    "The XGBoost model demonstrates outstanding performance with an accuracy of 99.16% on the evaluation dataset. Across various classes, precision and recall metrics consistently exceed 0.95, indicating exceptional predictive capability. <br />\n",
    "But even then accuracy of 99% is too high. So I'll will check which features are being used to do the prediction."
   ]
  },
  {
   "cell_type": "code",
   "execution_count": null,
   "metadata": {},
   "outputs": [
    {
     "name": "stdout",
     "output_type": "stream",
     "text": [
      "{'OBJECTID': 0.08373778, 'REPORT_YEAR': 0.09533304, 'REPORT_MONTH': 0.017951932, 'REPORT_DAY': 0.003390534, 'OCC_YEAR': 0.06605712, 'OCC_MONTH': 0.0074153733, 'OCC_DAY': 0.00484835, 'LONG_WGS84': 0.0027976753, 'LAT_WGS84': 0.0023270245, 'DEATH': 0.0035431448, 'INJURIES': 0.009268323, 'D11': 0.0004939174, 'D12': 0.0023801178, 'D13': 0.000877112, 'D14': 0.0009960928, 'D22': 0.00068212516, 'D23': 0.0015137354, 'D31': 0.0012506641, 'D32': 0.0019903206, 'D33': 0.0010271921, 'D41': 0.0009903664, 'D42': 0.0013517397, 'D43': 0.0014315811, 'D51': 0.00089848397, 'D52': 0.012363356, 'D53': 0.0051767672, 'D55': 0.00079247, 'NSA': 0.0039676195, 'Apartment': 0.021988822, 'Commercial': 0.016452007, 'Educational': 0.0049081603, 'House': 0.082251064, 'NotApplicable': 0.18720573, 'Other': 0.08838058, 'Outside': 0.24401943, 'Transit': 0.019940272}\n"
     ]
    }
   ],
   "source": [
    "# Get feature importances\n",
    "feature_importances = xgb_classifier.feature_importances_\n",
    "\n",
    "# Pair feature names with their importance s}cores\n",
    "feature_importance_dict = dict(zip(X_boost.columns, feature_importances))\n",
    "\n",
    "# Print or plot feature importances\n",
    "print(feature_importance_dict)"
   ]
  },
  {
   "cell_type": "markdown",
   "metadata": {},
   "source": [
    "Creating a visual for easy readability."
   ]
  },
  {
   "cell_type": "code",
   "execution_count": null,
   "metadata": {},
   "outputs": [
    {
     "data": {
      "image/png": "[encoded data removed]",
      "text/plain": [
       "<Figure size 1200x800 with 1 Axes>"
      ]
     },
     "metadata": {},
     "output_type": "display_data"
    }
   ],
   "source": [
    "importance_df = pd.DataFrame(list(feature_importance_dict.items()), columns=['Feature', 'Importance'])\n",
    "\n",
    "# Sort the DataFrame by Importance\n",
    "importance_df = importance_df.sort_values(by='Importance', ascending=False)\n",
    "\n",
    "# Plot the feature importances\n",
    "plt.figure(figsize=(12, 8))\n",
    "plt.barh(importance_df['Feature'], importance_df['Importance'])\n",
    "plt.xlabel('Importance')\n",
    "plt.title('Feature Importances')\n",
    "plt.show()"
   ]
  },
  {
   "cell_type": "markdown",
   "metadata": {},
   "source": [
    "Everything looks alright but I am not I don't think `OBJECTID` is a feature I wished to have in my data set.  "
   ]
  },
  {
   "cell_type": "markdown",
   "metadata": {},
   "source": [
    "After looking into it more, I found out that due to the way I had concatenated my data set, it created a very predictable patern with the `OBJECTID` which I was unaware of. I will be dropping the column and then rerun the models. Another thing I realized that I had not randomize my data set, which I will be doing going forward."
   ]
  },
  {
   "cell_type": "code",
   "execution_count": 5,
   "metadata": {},
   "outputs": [],
   "source": [
    "df.to_csv('../Data/FixedFinalDataAdvAn.csv')"
   ]
  }
 ],
 "metadata": {
  "kernelspec": {
   "display_name": "Python 3",
   "language": "python",
   "name": "python3"
  },
  "language_info": {
   "codemirror_mode": {
    "name": "ipython",
    "version": 3
   },
   "file_extension": ".py",
   "mimetype": "text/x-python",
   "name": "python",
   "nbconvert_exporter": "python",
   "pygments_lexer": "ipython3",
   "version": "3.11.4"
  }
 },
 "nbformat": 4,
 "nbformat_minor": 2
}
